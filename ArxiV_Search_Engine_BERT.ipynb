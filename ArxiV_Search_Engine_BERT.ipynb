{
  "nbformat": 4,
  "nbformat_minor": 0,
  "metadata": {
    "colab": {
      "name": "Copia de ArxiV_Search_Engine_BERT.ipynb",
      "provenance": [],
      "collapsed_sections": [],
      "machine_shape": "hm"
    },
    "kernelspec": {
      "display_name": "Python 3",
      "name": "python3"
    },
    "language_info": {
      "name": "python"
    }
  },
  "cells": [
    {
      "cell_type": "code",
      "metadata": {
        "colab": {
          "base_uri": "https://localhost:8080/"
        },
        "id": "yGwF1XMSJ3Vb",
        "outputId": "29b62b65-a4a7-4977-b231-09ce31d30669"
      },
      "source": [
        "from collections import defaultdict\n",
        "from pathlib import Path\n",
        "import pandas as pd\n",
        "import spacy\n",
        "import tqdm\n",
        "import tensorflow_hub as hub\n",
        "from tensorflow import keras\n",
        "import tensorflow as tf\n",
        "from sklearn import preprocessing\n",
        "import pickle\n",
        "import pandas as pd\n",
        "import numpy as np\n",
        "import json\n",
        "from tqdm import tqdm\n",
        "tqdm.pandas()\n"
      ],
      "execution_count": null,
      "outputs": [
        {
          "output_type": "stream",
          "text": [
            "/usr/local/lib/python3.7/dist-packages/tqdm/std.py:658: FutureWarning: The Panel class is removed from pandas. Accessing it from the top-level namespace will also be removed in the next version\n",
            "  from pandas import Panel\n"
          ],
          "name": "stderr"
        }
      ]
    },
    {
      "cell_type": "code",
      "metadata": {
        "colab": {
          "base_uri": "https://localhost:8080/"
        },
        "id": "aJjSvXIO-bNg",
        "outputId": "977b41d0-d780-4c54-856c-bf1222f2b458"
      },
      "source": [
        "from google.colab import drive\n",
        "drive.mount('/content/drive')"
      ],
      "execution_count": null,
      "outputs": [
        {
          "output_type": "stream",
          "text": [
            "Mounted at /content/drive\n"
          ],
          "name": "stdout"
        }
      ]
    },
    {
      "cell_type": "code",
      "metadata": {
        "id": "Pt6UxRUQKrv-"
      },
      "source": [
        "#1738 samples\n",
        "\n",
        "pow = \"/content/drive/MyDrive/TFM/Albert/ArXiv_Papers\"\n",
        "\n",
        "results = defaultdict(list)\n",
        "for file in Path(pow).iterdir():\n",
        "    with open(file, \"r\",encoding='ISO 8859-1') as file_open:\n",
        "        results[\"file_name\"].append(file.name)\n",
        "        results[\"text\"].append(file_open.read())"
      ],
      "execution_count": null,
      "outputs": []
    },
    {
      "cell_type": "code",
      "metadata": {
        "id": "y1u1D_csKoQ5"
      },
      "source": [
        "df = pd.DataFrame(results)"
      ],
      "execution_count": null,
      "outputs": []
    },
    {
      "cell_type": "code",
      "metadata": {
        "id": "wB7d24ewVvOd"
      },
      "source": [
        "nlp = spacy.load(\"en_core_web_sm\")\n",
        "stops = spacy.lang.en.stop_words.STOP_WORDS\n",
        "\n",
        "\n",
        "def normalize(comment, lowercase, remove_stopwords):\n",
        "    if lowercase:\n",
        "        comment = comment.lower()\n",
        "    comment = nlp(comment)\n",
        "    lemmatized = list()\n",
        "    for word in comment:\n",
        "        lemma = word.lemma_.strip()\n",
        "        if lemma:\n",
        "            if not remove_stopwords or (remove_stopwords and lemma not in stops):\n",
        "                lemmatized.append(lemma)\n",
        "    return \" \".join(lemmatized)\n",
        "\n"
      ],
      "execution_count": null,
      "outputs": []
    },
    {
      "cell_type": "code",
      "metadata": {
        "colab": {
          "base_uri": "https://localhost:8080/",
          "height": 164
        },
        "id": "UMGV1WlmSKI5",
        "outputId": "c5381bf5-b5d0-4829-dfcc-b04008e237c9"
      },
      "source": [
        "df['text_clean']=df['text'].progress_apply(normalize,lowercase=True, remove_stopwords=True)"
      ],
      "execution_count": null,
      "outputs": [
        {
          "output_type": "error",
          "ename": "NameError",
          "evalue": "ignored",
          "traceback": [
            "\u001b[0;31m---------------------------------------------------------------------------\u001b[0m",
            "\u001b[0;31mNameError\u001b[0m                                 Traceback (most recent call last)",
            "\u001b[0;32m<ipython-input-1-96516568e683>\u001b[0m in \u001b[0;36m<module>\u001b[0;34m()\u001b[0m\n\u001b[0;32m----> 1\u001b[0;31m \u001b[0mdf\u001b[0m\u001b[0;34m[\u001b[0m\u001b[0;34m'text_clean'\u001b[0m\u001b[0;34m]\u001b[0m\u001b[0;34m=\u001b[0m\u001b[0mdf\u001b[0m\u001b[0;34m[\u001b[0m\u001b[0;34m'text'\u001b[0m\u001b[0;34m]\u001b[0m\u001b[0;34m.\u001b[0m\u001b[0mprogress_apply\u001b[0m\u001b[0;34m(\u001b[0m\u001b[0mnormalize\u001b[0m\u001b[0;34m,\u001b[0m\u001b[0mlowercase\u001b[0m\u001b[0;34m=\u001b[0m\u001b[0;32mTrue\u001b[0m\u001b[0;34m,\u001b[0m \u001b[0mremove_stopwords\u001b[0m\u001b[0;34m=\u001b[0m\u001b[0;32mTrue\u001b[0m\u001b[0;34m)\u001b[0m\u001b[0;34m\u001b[0m\u001b[0;34m\u001b[0m\u001b[0m\n\u001b[0m",
            "\u001b[0;31mNameError\u001b[0m: name 'df' is not defined"
          ]
        }
      ]
    },
    {
      "cell_type": "code",
      "metadata": {
        "colab": {
          "background_save": true
        },
        "id": "JWkmg4P5bVN0"
      },
      "source": [
        "#df['text_clean']=df['text_clean'].str.join(' ')"
      ],
      "execution_count": null,
      "outputs": []
    },
    {
      "cell_type": "code",
      "metadata": {
        "id": "pXggxV7MomBk"
      },
      "source": [
        "category_map = {'acc-phys':'Physics',\n",
        "                'adap-org':'Physics',\n",
        "                'alg-geom':'Maths',\n",
        "                'ao-sci':'Physics',\n",
        "                'astro-ph':'Physics',\n",
        "                'atom-ph':'Physics', \n",
        "                'bayes-an':'Maths', \n",
        "                'chao-dyn':'Physics', \n",
        "                'chem-ph':'Physics', \n",
        "                'cmp-lg':'Computer Science', \n",
        "                'comp-gas':'Computer Science',\n",
        "                'cond-mat':'Physics', \n",
        "                'cond-mat':'Physics',\n",
        "                'cs':'Computer Science', \n",
        "                'dg-ga':'Computer Science',\n",
        "                'econ':'Economics', \n",
        "                'eess':'Electrical Engineering and Systems Science', \n",
        "                'funct-an':'Maths',\n",
        "                'gr-qc':'Physics',\n",
        "                'hep-ex':'Physics',\n",
        "                'hep-lat':'Physics',\n",
        "                'hep-ph':'Physics', \n",
        "                'hep-th':'Physics', \n",
        "                'math':'Maths', \n",
        "                'math-ph':'Maths',\n",
        "                'mtrl-th':'Maths',\n",
        "                'nlin':'Physics', \n",
        "                'nucl-ex':'Physics',\n",
        "                'nucl-th':'Physics', \n",
        "                'patt-sol':'Computer Science',\n",
        "                'physics':'Physics',\n",
        "                'plasm-ph':'Physics',\n",
        "                'q-alg':'Maths', \n",
        "                'q-bio':'Quantitative Biology', \n",
        "                'q-fin':'Quantitative Finance', \n",
        "                'quant-ph':'Physics',\n",
        "                'solv-int':'Maths',\n",
        "                'stat':'Statistics',\n",
        "                'supr-con':'Physics'}"
      ],
      "execution_count": null,
      "outputs": []
    },
    {
      "cell_type": "code",
      "metadata": {
        "colab": {
          "base_uri": "https://localhost:8080/"
        },
        "id": "kwUfYAIJh50C",
        "outputId": "3b68467d-96f9-41a3-f077-aa74549f83e8"
      },
      "source": [
        "model=keras.models.load_model(\"/content/drive/MyDrive/TFM/Albert/OUTPUT_NAME/Paper_Classifier\")\n",
        "\n",
        "with open(r\"/content/drive/MyDrive/TFM/Albert/tokenizer.pickle\", \"rb\") as input_file:\n",
        "  token = pickle.load(input_file)\n",
        "\n",
        "\n",
        "\n",
        "\n",
        "#df.to_csv(\"Cleaned_Output.csv\",index=False)"
      ],
      "execution_count": null,
      "outputs": [
        {
          "output_type": "stream",
          "text": [
            "WARNING:tensorflow:SavedModel saved prior to TF 2.5 detected when loading Keras model. Please ensure that you are saving the model with model.save() or tf.keras.models.save_model(), *NOT* tf.saved_model.save(). To confirm, there should be a file named \"keras_metadata.pb\" in the SavedModel directory.\n"
          ],
          "name": "stdout"
        },
        {
          "output_type": "stream",
          "text": [
            "/usr/local/lib/python3.7/dist-packages/sklearn/base.py:318: UserWarning: Trying to unpickle estimator LabelEncoder from version 0.23.2 when using version 0.22.2.post1. This might lead to breaking code or invalid results. Use at your own risk.\n",
            "  UserWarning)\n"
          ],
          "name": "stderr"
        }
      ]
    },
    {
      "cell_type": "code",
      "metadata": {
        "id": "v7smUoEssRoa"
      },
      "source": [
        "results=token.inverse_transform(model.predict_classes(df['text_clean']))\n"
      ],
      "execution_count": null,
      "outputs": []
    },
    {
      "cell_type": "code",
      "metadata": {
        "colab": {
          "background_save": true
        },
        "id": "Faqk1FApsZzb",
        "outputId": "57defcc9-abea-4e70-fb7a-33d5a619b5c7"
      },
      "source": [
        "rev_subs = { v:k for v,k in category_map.items()}\n",
        "results=[rev_subs.get(item,item)  for item in results]\n",
        "print (results)"
      ],
      "execution_count": null,
      "outputs": [
        {
          "output_type": "stream",
          "text": [
            "['Computer Science', 'Quantitative Biology', 'Physics', 'Computer Science', 'Physics', 'Physics', 'Electrical Engineering and Systems Science', 'Computer Science', 'Physics', 'Computer Science', 'Electrical Engineering and Systems Science', 'Maths', 'Computer Science', 'Computer Science', 'Computer Science', 'Computer Science', 'Computer Science', 'Computer Science', 'Computer Science', 'Computer Science', 'Electrical Engineering and Systems Science', 'Computer Science', 'Maths', 'Computer Science', 'Physics', 'Physics', 'Computer Science', 'Maths', 'Computer Science', 'Computer Science', 'Computer Science', 'Physics', 'Computer Science', 'Maths', 'Maths', 'Computer Science', 'Computer Science', 'Physics', 'Maths', 'Physics', 'Maths', 'Computer Science', 'Computer Science', 'Electrical Engineering and Systems Science', 'Computer Science', 'Physics', 'Electrical Engineering and Systems Science', 'Maths', 'Maths', 'Computer Science', 'Physics', 'Physics', 'Computer Science', 'Computer Science', 'Physics', 'Computer Science', 'Physics', 'Maths', 'Physics', 'Maths', 'Physics', 'Electrical Engineering and Systems Science', 'Computer Science', 'Computer Science', 'Maths', 'Computer Science', 'Computer Science', 'Computer Science', 'Computer Science', 'Computer Science', 'Computer Science', 'Physics', 'Maths', 'Computer Science', 'Maths', 'Computer Science', 'Maths', 'Maths', 'Maths', 'Physics', 'Computer Science', 'Physics', 'Maths', 'Maths', 'Computer Science', 'Computer Science', 'Maths', 'Computer Science', 'Maths', 'Maths', 'Computer Science', 'Physics', 'Maths', 'Computer Science', 'Physics', 'Maths', 'Physics', 'Computer Science', 'Computer Science', 'Computer Science', 'Physics', 'Computer Science', 'Computer Science', 'Physics', 'Computer Science', 'Computer Science', 'Physics', 'Physics', 'Computer Science', 'Maths', 'Computer Science', 'Physics', 'Computer Science', 'Physics', 'Physics', 'Computer Science', 'Quantitative Biology', 'Computer Science', 'Computer Science', 'Physics', 'Computer Science', 'Physics', 'Computer Science', 'Computer Science', 'Maths', 'Maths', 'Maths', 'Computer Science', 'Maths', 'Maths', 'Physics', 'Maths', 'Computer Science', 'Physics', 'Physics', 'Computer Science', 'Maths', 'Computer Science', 'Computer Science', 'Electrical Engineering and Systems Science', 'Computer Science', 'Maths', 'Maths', 'Computer Science', 'Quantitative Biology', 'Computer Science', 'Computer Science', 'Maths', 'Computer Science', 'Computer Science', 'Computer Science', 'Maths', 'Physics', 'Maths', 'Physics', 'Computer Science', 'Physics', 'Physics', 'Physics', 'Computer Science', 'Maths', 'Computer Science', 'Physics', 'Maths', 'Physics', 'Physics', 'Physics', 'Physics', 'Computer Science', 'Computer Science', 'Computer Science', 'Computer Science', 'Maths', 'Computer Science', 'Physics', 'Physics', 'Physics', 'Computer Science', 'Computer Science', 'Computer Science', 'Physics', 'Computer Science', 'Physics', 'Computer Science', 'Electrical Engineering and Systems Science', 'Maths', 'Maths', 'Computer Science', 'Computer Science', 'Electrical Engineering and Systems Science', 'Quantitative Biology', 'Computer Science', 'Computer Science', 'Computer Science', 'Computer Science', 'Computer Science', 'Physics', 'Computer Science', 'Computer Science', 'Physics', 'Maths', 'Computer Science', 'Computer Science', 'Physics', 'Computer Science', 'Maths', 'Computer Science', 'Physics', 'Computer Science', 'Maths', 'Computer Science', 'Computer Science', 'Maths', 'Electrical Engineering and Systems Science', 'Computer Science', 'Computer Science', 'Computer Science', 'Maths', 'Maths', 'Computer Science', 'Computer Science', 'Computer Science', 'Computer Science', 'Physics', 'Physics', 'Physics', 'Maths', 'Maths', 'Physics', 'Physics', 'Computer Science', 'Physics', 'Maths', 'Computer Science', 'Physics', 'Computer Science', 'Maths', 'Maths', 'Computer Science', 'Maths', 'Computer Science', 'Physics', 'Computer Science', 'Computer Science', 'Maths', 'Maths', 'Maths', 'Computer Science', 'Physics', 'Computer Science', 'Computer Science', 'Computer Science', 'Computer Science', 'Computer Science', 'Maths', 'Computer Science', 'Computer Science', 'Physics', 'Physics', 'Computer Science', 'Maths', 'Physics', 'Physics', 'Computer Science', 'Computer Science', 'Physics', 'Computer Science', 'Physics', 'Computer Science', 'Computer Science', 'Physics', 'Physics', 'Computer Science', 'Physics', 'Computer Science', 'Physics', 'Maths', 'Computer Science', 'Maths', 'Computer Science', 'Maths', 'Physics', 'Maths', 'Maths', 'Maths', 'Maths', 'Computer Science', 'Computer Science', 'Computer Science', 'Physics', 'Computer Science', 'Physics', 'Electrical Engineering and Systems Science', 'Maths', 'Computer Science', 'Maths', 'Maths', 'Quantitative Biology', 'Physics', 'Computer Science', 'Physics', 'Maths', 'Maths', 'Computer Science', 'Physics', 'Physics', 'Computer Science', 'Maths', 'Computer Science', 'Physics', 'Electrical Engineering and Systems Science', 'Computer Science', 'Physics', 'Computer Science', 'Maths', 'Maths', 'Maths', 'Computer Science', 'Computer Science', 'Maths', 'Computer Science', 'Maths', 'Computer Science', 'Computer Science', 'Computer Science', 'Physics', 'Maths', 'Maths', 'Computer Science', 'Maths', 'Maths', 'Computer Science', 'Computer Science', 'Computer Science', 'Maths', 'Physics', 'Computer Science', 'Maths', 'Computer Science', 'Physics', 'Computer Science', 'Physics', 'Computer Science', 'Computer Science', 'Maths', 'Maths', 'Physics', 'Physics', 'Maths', 'Computer Science', 'Computer Science', 'Computer Science', 'Physics', 'Quantitative Biology', 'Computer Science', 'Computer Science', 'Physics', 'Computer Science', 'Computer Science', 'Physics', 'Computer Science', 'Computer Science', 'Electrical Engineering and Systems Science', 'Maths', 'Maths', 'Computer Science', 'Computer Science', 'Physics', 'Maths', 'Computer Science', 'Maths', 'Physics', 'Physics', 'Physics', 'Computer Science', 'Physics', 'Computer Science', 'Maths', 'Computer Science', 'Computer Science', 'Computer Science', 'Physics', 'Computer Science', 'Maths', 'Computer Science', 'Physics', 'Computer Science', 'Maths', 'Maths', 'Computer Science', 'Physics', 'Electrical Engineering and Systems Science', 'Physics', 'Computer Science', 'Physics', 'Computer Science', 'Computer Science', 'Computer Science', 'Computer Science', 'Maths', 'Computer Science', 'Computer Science', 'Computer Science', 'Electrical Engineering and Systems Science', 'Physics', 'Physics', 'Maths', 'Physics', 'Physics', 'Physics', 'Maths', 'Computer Science', 'Computer Science', 'Maths', 'Maths', 'Maths', 'Physics', 'Computer Science', 'Physics', 'Computer Science', 'Computer Science', 'Computer Science', 'Physics', 'Computer Science', 'Computer Science', 'Physics', 'Maths', 'Computer Science', 'Maths', 'Physics', 'Physics', 'Maths', 'Physics', 'Physics', 'Maths', 'Maths', 'Computer Science', 'Maths', 'Computer Science', 'Physics', 'Computer Science', 'Computer Science', 'Physics', 'Maths', 'Physics', 'Physics', 'Maths', 'Computer Science', 'Computer Science', 'Physics', 'Maths', 'Maths', 'Computer Science', 'Computer Science', 'Physics', 'Maths', 'Computer Science', 'Physics', 'Maths', 'Computer Science', 'Maths', 'Computer Science', 'Maths', 'Physics', 'Computer Science', 'Computer Science', 'Maths', 'Physics', 'Computer Science', 'Computer Science', 'Physics', 'Computer Science', 'Electrical Engineering and Systems Science', 'Electrical Engineering and Systems Science', 'Computer Science', 'Computer Science', 'Physics', 'Maths', 'Maths', 'Maths', 'Maths', 'Physics', 'Computer Science', 'Computer Science', 'Physics', 'Maths', 'Electrical Engineering and Systems Science', 'Physics', 'Computer Science', 'Electrical Engineering and Systems Science', 'Physics', 'Computer Science', 'Maths', 'Physics', 'Computer Science', 'Computer Science', 'Computer Science', 'Computer Science', 'Computer Science', 'Maths', 'Physics', 'Electrical Engineering and Systems Science', 'Maths', 'Maths', 'Maths', 'Maths', 'Physics', 'Computer Science', 'Computer Science', 'Physics', 'Maths', 'Physics', 'Computer Science', 'Computer Science', 'Computer Science', 'Computer Science', 'Electrical Engineering and Systems Science', 'Computer Science', 'Computer Science', 'Computer Science', 'Computer Science', 'Computer Science', 'Physics', 'Maths', 'Computer Science', 'Physics', 'Physics', 'Computer Science', 'Maths', 'Maths', 'Computer Science', 'Computer Science', 'Maths', 'Maths', 'Maths', 'Computer Science', 'Computer Science', 'Computer Science', 'Physics', 'Computer Science', 'Electrical Engineering and Systems Science', 'Maths', 'Maths', 'Maths', 'Computer Science', 'Electrical Engineering and Systems Science', 'Physics', 'Maths', 'Physics', 'Computer Science', 'Maths', 'Computer Science', 'Maths', 'Physics', 'Computer Science', 'Electrical Engineering and Systems Science', 'Computer Science', 'Physics', 'Physics', 'Computer Science', 'Computer Science', 'Computer Science', 'Electrical Engineering and Systems Science', 'Physics', 'Electrical Engineering and Systems Science', 'Computer Science', 'Computer Science', 'Computer Science', 'Computer Science', 'Computer Science', 'Maths', 'Computer Science', 'Computer Science', 'Computer Science', 'Maths', 'Maths', 'Maths', 'Computer Science', 'Computer Science', 'Computer Science', 'Physics', 'Computer Science', 'Physics', 'Maths', 'Physics', 'Maths', 'Computer Science', 'Computer Science', 'Maths', 'Physics', 'Computer Science', 'Physics', 'Computer Science', 'Physics', 'Physics', 'Maths', 'Computer Science', 'Computer Science', 'Maths', 'Physics', 'Computer Science', 'Maths', 'Computer Science', 'Computer Science', 'Physics', 'Computer Science', 'Computer Science', 'Maths', 'Maths', 'Maths', 'Computer Science', 'Physics', 'Maths', 'Physics', 'Computer Science', 'Physics', 'Computer Science', 'Computer Science', 'Maths', 'Maths', 'Computer Science', 'Physics', 'Physics', 'Physics', 'Physics', 'Physics', 'Computer Science', 'Computer Science', 'Maths', 'Quantitative Biology', 'Physics', 'Maths', 'Maths', 'Computer Science', 'Maths', 'Computer Science', 'Computer Science', 'Electrical Engineering and Systems Science', 'Physics', 'Maths', 'Computer Science', 'Computer Science', 'Maths', 'Physics', 'Physics', 'Maths', 'Physics', 'Computer Science', 'Physics', 'Computer Science', 'Computer Science', 'Quantitative Biology', 'Computer Science', 'Maths', 'Maths', 'Computer Science', 'Physics', 'Physics', 'Maths', 'Physics', 'Computer Science', 'Physics', 'Physics', 'Maths', 'Computer Science', 'Computer Science', 'Physics', 'Physics', 'Physics', 'Computer Science', 'Computer Science', 'Computer Science', 'Maths', 'Electrical Engineering and Systems Science', 'Maths', 'Maths', 'Computer Science', 'Physics', 'Computer Science', 'Maths', 'Computer Science', 'Computer Science', 'Computer Science', 'Computer Science', 'Physics', 'Physics', 'Statistics', 'Computer Science', 'Physics', 'Maths', 'Physics', 'Maths', 'Physics', 'Maths', 'Maths', 'Computer Science', 'Computer Science', 'Computer Science', 'Maths', 'Maths', 'Computer Science', 'Maths', 'Computer Science', 'Electrical Engineering and Systems Science', 'Computer Science', 'Computer Science', 'Computer Science', 'Computer Science', 'Computer Science', 'Computer Science', 'Maths', 'Electrical Engineering and Systems Science', 'Computer Science', 'Computer Science', 'Computer Science', 'Computer Science', 'Electrical Engineering and Systems Science', 'Physics', 'Maths', 'Computer Science', 'Physics', 'Maths', 'Computer Science', 'Physics', 'Physics', 'Maths', 'Maths', 'Computer Science', 'Computer Science', 'Physics', 'Computer Science', 'Physics', 'Maths', 'Maths', 'Computer Science', 'Computer Science', 'Physics', 'Maths', 'Computer Science', 'Computer Science', 'Physics', 'Physics', 'Physics', 'Physics', 'Maths', 'Maths', 'Computer Science', 'Computer Science', 'Computer Science', 'Maths', 'Computer Science', 'Physics', 'Maths', 'Computer Science', 'Computer Science', 'Physics', 'Maths', 'Quantitative Biology', 'Physics', 'Physics', 'Maths', 'Computer Science', 'Computer Science', 'Computer Science', 'Computer Science', 'Maths', 'Quantitative Biology', 'Computer Science', 'Physics', 'Maths', 'Maths', 'Physics', 'Computer Science', 'Computer Science', 'Computer Science', 'Computer Science', 'Computer Science', 'Physics', 'Physics', 'Physics', 'Physics', 'Computer Science', 'Maths', 'Computer Science', 'Physics', 'Computer Science', 'Electrical Engineering and Systems Science', 'Maths', 'Computer Science', 'Physics', 'Physics', 'Maths', 'Physics', 'Physics', 'Physics', 'Maths', 'Computer Science', 'Computer Science', 'Physics', 'Computer Science', 'Computer Science', 'Maths', 'Maths', 'Computer Science', 'Physics', 'Computer Science', 'Physics', 'Maths', 'Computer Science', 'Maths', 'Maths', 'Maths', 'Computer Science', 'Computer Science', 'Computer Science', 'Physics', 'Physics', 'Maths', 'Computer Science', 'Computer Science', 'Physics', 'Computer Science', 'Maths', 'Computer Science', 'Physics', 'Computer Science', 'Maths', 'Computer Science', 'Electrical Engineering and Systems Science', 'Computer Science', 'Computer Science', 'Physics', 'Maths', 'Physics', 'Physics', 'Computer Science', 'Computer Science', 'Computer Science', 'Computer Science', 'Physics', 'Electrical Engineering and Systems Science', 'Electrical Engineering and Systems Science', 'Computer Science', 'Computer Science', 'Computer Science', 'Physics', 'Computer Science', 'Maths', 'Computer Science', 'Maths', 'Computer Science', 'Physics', 'Computer Science', 'Computer Science', 'Physics', 'Electrical Engineering and Systems Science', 'Computer Science', 'Computer Science', 'Computer Science', 'Maths', 'Computer Science', 'Physics', 'Physics', 'Physics', 'Computer Science', 'Physics', 'Maths', 'Maths', 'Physics', 'Computer Science', 'Physics', 'Computer Science', 'Computer Science', 'Physics', 'Physics', 'Computer Science', 'Computer Science', 'Computer Science', 'Maths', 'Maths', 'Computer Science', 'Physics', 'Computer Science', 'Physics', 'Computer Science', 'Physics', 'Computer Science', 'Computer Science', 'Computer Science', 'Computer Science', 'Computer Science', 'Quantitative Biology', 'Maths', 'Computer Science', 'Physics', 'Computer Science', 'Computer Science', 'Physics', 'Maths', 'Computer Science', 'Maths', 'Electrical Engineering and Systems Science', 'Physics', 'Computer Science', 'Physics', 'Physics', 'Maths', 'Electrical Engineering and Systems Science', 'Physics', 'Physics', 'Physics', 'Physics', 'Physics', 'Computer Science', 'Electrical Engineering and Systems Science', 'Computer Science', 'Statistics', 'Quantitative Biology', 'Computer Science', 'Computer Science', 'Maths', 'Physics', 'Physics', 'Computer Science', 'Computer Science', 'Physics', 'Maths', 'Physics', 'Computer Science', 'Maths', 'Physics', 'Physics', 'Maths', 'Computer Science', 'Physics', 'Maths', 'Maths', 'Computer Science', 'Computer Science', 'Physics', 'Maths', 'Computer Science', 'Maths', 'Physics', 'Computer Science', 'Maths', 'Physics', 'Physics', 'Maths', 'Maths', 'Maths', 'Computer Science', 'Physics', 'Physics', 'Maths', 'Computer Science', 'Maths', 'Physics', 'Maths', 'Physics', 'Physics', 'Physics', 'Computer Science', 'Electrical Engineering and Systems Science', 'Computer Science', 'Physics', 'Maths', 'Maths', 'Quantitative Biology', 'Computer Science', 'Physics', 'Maths', 'Maths', 'Physics', 'Computer Science', 'Computer Science', 'Physics', 'Computer Science', 'Computer Science', 'Maths', 'Physics', 'Physics', 'Maths', 'Physics', 'Computer Science', 'Computer Science', 'Maths', 'Maths', 'Physics', 'Physics', 'Physics', 'Physics', 'Physics', 'Maths', 'Maths', 'Computer Science', 'Computer Science', 'Computer Science', 'Computer Science', 'Physics', 'Computer Science', 'Maths', 'Physics', 'Physics', 'Electrical Engineering and Systems Science', 'Physics', 'Physics', 'Computer Science', 'Physics', 'Electrical Engineering and Systems Science', 'Computer Science', 'Computer Science', 'Computer Science', 'Maths', 'Physics', 'Physics', 'Physics', 'Computer Science', 'Maths', 'Maths', 'Physics', 'Computer Science', 'Physics', 'Physics', 'Physics', 'Physics', 'Electrical Engineering and Systems Science', 'Maths', 'Computer Science', 'Computer Science', 'Physics', 'Computer Science', 'Physics', 'Computer Science', 'Computer Science', 'Electrical Engineering and Systems Science', 'Physics', 'Physics', 'Physics', 'Physics', 'Physics', 'Computer Science', 'Maths', 'Computer Science', 'Physics', 'Physics', 'Computer Science', 'Physics', 'Computer Science', 'Computer Science', 'Physics', 'Computer Science', 'Maths', 'Physics', 'Maths', 'Physics', 'Maths', 'Maths', 'Statistics', 'Computer Science', 'Maths', 'Physics', 'Maths', 'Maths', 'Physics', 'Maths', 'Maths', 'Maths', 'Maths', 'Physics', 'Physics', 'Computer Science', 'Computer Science', 'Maths', 'Physics', 'Computer Science', 'Physics', 'Maths', 'Computer Science', 'Computer Science', 'Physics', 'Computer Science', 'Computer Science', 'Physics', 'Maths', 'Computer Science', 'Maths', 'Maths', 'Physics', 'Computer Science', 'Computer Science', 'Computer Science', 'Maths', 'Physics', 'Computer Science', 'Computer Science', 'Computer Science', 'Computer Science', 'Computer Science', 'Maths', 'Maths', 'Computer Science', 'Maths', 'Statistics', 'Maths', 'Physics', 'Computer Science', 'Computer Science', 'Computer Science', 'Computer Science', 'Maths', 'Computer Science', 'Maths', 'Computer Science', 'Maths', 'Computer Science', 'Computer Science', 'Computer Science', 'Computer Science', 'Maths', 'Maths', 'Physics', 'Computer Science', 'Physics', 'Physics', 'Maths', 'Electrical Engineering and Systems Science', 'Maths', 'Electrical Engineering and Systems Science', 'Maths', 'Computer Science', 'Computer Science', 'Maths', 'Maths', 'Maths', 'Computer Science', 'Maths', 'Maths', 'Physics', 'Computer Science', 'Maths', 'Physics', 'Physics', 'Computer Science', 'Maths', 'Maths', 'Physics', 'Computer Science', 'Computer Science', 'Maths', 'Physics', 'Computer Science', 'Physics', 'Computer Science', 'Physics', 'Computer Science', 'Computer Science', 'Maths', 'Computer Science', 'Maths', 'Computer Science', 'Computer Science', 'Computer Science', 'Electrical Engineering and Systems Science', 'Physics', 'Computer Science', 'Physics', 'Physics', 'Physics', 'Computer Science', 'Physics', 'Computer Science', 'Computer Science', 'Maths', 'Maths', 'Electrical Engineering and Systems Science', 'Maths', 'Maths', 'Computer Science', 'Maths', 'Physics', 'Maths', 'Computer Science', 'Computer Science', 'Maths', 'Maths', 'Physics', 'Physics', 'Maths', 'Computer Science', 'Maths', 'Physics', 'Quantitative Biology', 'Physics', 'Physics', 'Physics', 'Maths', 'Computer Science', 'Physics', 'Maths', 'Computer Science', 'Physics', 'Maths', 'Computer Science', 'Maths', 'Maths', 'Maths', 'Computer Science', 'Maths', 'Physics', 'Computer Science', 'Physics', 'Physics', 'Maths', 'Maths', 'Physics', 'Computer Science', 'Physics', 'Maths', 'Computer Science', 'Computer Science', 'Physics', 'Maths', 'Computer Science', 'Computer Science', 'Electrical Engineering and Systems Science', 'Maths', 'Maths', 'Computer Science', 'Computer Science', 'Computer Science', 'Physics', 'Computer Science', 'Maths', 'Computer Science', 'Maths', 'Computer Science', 'Physics', 'Computer Science', 'Physics', 'Computer Science', 'Computer Science', 'Computer Science', 'Electrical Engineering and Systems Science', 'Maths', 'Maths', 'Computer Science', 'Physics', 'Computer Science', 'Computer Science', 'Maths', 'Computer Science', 'Maths', 'Computer Science', 'Maths', 'Maths', 'Maths', 'Computer Science', 'Computer Science', 'Computer Science', 'Computer Science', 'Physics', 'Physics', 'Computer Science', 'Computer Science', 'Quantitative Biology', 'Computer Science', 'Computer Science', 'Maths', 'Maths', 'Computer Science', 'Physics', 'Maths', 'Physics', 'Computer Science', 'Maths', 'Computer Science', 'Electrical Engineering and Systems Science', 'Physics', 'Physics', 'Computer Science', 'Computer Science', 'Computer Science', 'Quantitative Biology', 'Computer Science', 'Computer Science', 'Computer Science', 'Computer Science', 'Computer Science', 'Physics', 'Maths', 'Physics', 'Physics', 'Computer Science', 'Computer Science', 'Maths', 'Maths', 'Physics', 'Physics', 'Physics', 'Electrical Engineering and Systems Science', 'Computer Science', 'Computer Science', 'Maths', 'Computer Science', 'Computer Science', 'Computer Science', 'Maths', 'Physics', 'Maths', 'Physics', 'Computer Science', 'Physics', 'Physics', 'Electrical Engineering and Systems Science', 'Physics', 'Computer Science', 'Maths', 'Computer Science', 'Physics', 'Computer Science', 'Physics', 'Physics', 'Computer Science', 'Maths', 'Computer Science', 'Computer Science', 'Electrical Engineering and Systems Science', 'Maths', 'Physics', 'Computer Science', 'Maths', 'Computer Science', 'Computer Science', 'Physics', 'Maths', 'Computer Science', 'Maths', 'Computer Science', 'Computer Science', 'Physics', 'Computer Science', 'Computer Science', 'Maths', 'Computer Science', 'Computer Science', 'Physics', 'Computer Science', 'Computer Science', 'Maths', 'Maths', 'Maths', 'Computer Science', 'Maths', 'Physics', 'Computer Science', 'Physics', 'Physics', 'Computer Science', 'Computer Science', 'Computer Science', 'Computer Science', 'Computer Science', 'Computer Science', 'Statistics', 'Computer Science', 'Maths', 'Computer Science', 'Computer Science', 'Physics', 'Maths', 'Maths', 'Maths', 'Computer Science', 'Physics', 'Computer Science', 'Maths', 'Maths', 'Computer Science', 'Computer Science', 'Physics', 'Maths', 'Computer Science', 'Computer Science', 'Computer Science', 'Computer Science', 'Maths', 'Maths', 'Physics', 'Computer Science', 'Computer Science', 'Electrical Engineering and Systems Science', 'Computer Science', 'Electrical Engineering and Systems Science', 'Computer Science', 'Computer Science', 'Computer Science', 'Physics', 'Physics', 'Computer Science', 'Computer Science', 'Computer Science', 'Physics', 'Computer Science', 'Physics', 'Maths', 'Computer Science', 'Maths', 'Physics', 'Physics', 'Computer Science', 'Computer Science', 'Electrical Engineering and Systems Science', 'Maths', 'Computer Science', 'Computer Science', 'Physics', 'Computer Science', 'Quantitative Biology', 'Maths', 'Maths', 'Physics', 'Physics', 'Computer Science', 'Maths', 'Maths', 'Computer Science', 'Computer Science', 'Computer Science', 'Maths', 'Computer Science', 'Maths', 'Physics', 'Physics', 'Computer Science', 'Maths', 'Physics', 'Computer Science', 'Computer Science', 'Electrical Engineering and Systems Science', 'Computer Science', 'Maths', 'Computer Science', 'Maths', 'Physics', 'Electrical Engineering and Systems Science', 'Maths', 'Physics', 'Physics', 'Physics', 'Maths', 'Computer Science', 'Maths', 'Physics', 'Physics', 'Computer Science', 'Computer Science', 'Maths', 'Physics', 'Computer Science', 'Electrical Engineering and Systems Science', 'Physics', 'Computer Science', 'Physics', 'Maths', 'Computer Science', 'Physics', 'Physics', 'Maths', 'Physics', 'Computer Science', 'Physics', 'Maths', 'Maths', 'Physics', 'Computer Science', 'Physics', 'Physics', 'Computer Science', 'Maths', 'Maths', 'Physics', 'Computer Science', 'Computer Science', 'Physics', 'Computer Science', 'Computer Science', 'Maths', 'Physics', 'Computer Science', 'Electrical Engineering and Systems Science', 'Computer Science', 'Computer Science', 'Maths', 'Computer Science', 'Computer Science', 'Physics', 'Physics', 'Physics', 'Computer Science', 'Physics', 'Physics', 'Maths', 'Maths', 'Computer Science', 'Maths', 'Computer Science', 'Maths', 'Maths', 'Electrical Engineering and Systems Science', 'Maths', 'Computer Science', 'Physics', 'Computer Science', 'Computer Science', 'Physics', 'Electrical Engineering and Systems Science', 'Computer Science', 'Maths', 'Maths', 'Physics', 'Maths', 'Physics', 'Maths', 'Computer Science', 'Maths', 'Maths', 'Physics', 'Computer Science', 'Computer Science', 'Computer Science', 'Physics', 'Computer Science', 'Electrical Engineering and Systems Science', 'Maths', 'Physics', 'Computer Science', 'Maths', 'Physics', 'Maths', 'Maths', 'Maths', 'Physics', 'Computer Science', 'Electrical Engineering and Systems Science', 'Computer Science', 'Computer Science', 'Physics', 'Physics', 'Physics', 'Computer Science', 'Computer Science', 'Maths', 'Maths', 'Physics', 'Computer Science', 'Computer Science', 'Electrical Engineering and Systems Science', 'Computer Science', 'Computer Science', 'Physics', 'Computer Science', 'Computer Science', 'Maths', 'Computer Science', 'Computer Science', 'Maths', 'Physics', 'Maths', 'Maths', 'Maths', 'Computer Science', 'Computer Science', 'Maths', 'Computer Science', 'Maths', 'Maths', 'Physics', 'Physics', 'Computer Science', 'Computer Science', 'Computer Science', 'Computer Science', 'Maths', 'Computer Science', 'Computer Science', 'Maths', 'Maths', 'Computer Science', 'Computer Science', 'Maths', 'Physics', 'Computer Science', 'Computer Science', 'Computer Science', 'Physics', 'Computer Science', 'Computer Science', 'Maths', 'Maths', 'Physics', 'Computer Science', 'Quantitative Biology', 'Computer Science', 'Computer Science', 'Physics', 'Computer Science', 'Physics', 'Quantitative Biology', 'Computer Science', 'Maths', 'Maths', 'Physics', 'Computer Science', 'Computer Science', 'Computer Science', 'Maths', 'Computer Science', 'Maths', 'Electrical Engineering and Systems Science', 'Maths', 'Maths', 'Maths', 'Computer Science', 'Maths', 'Physics', 'Physics', 'Physics', 'Quantitative Biology', 'Maths', 'Computer Science', 'Computer Science', 'Computer Science', 'Computer Science', 'Computer Science', 'Maths', 'Maths', 'Maths', 'Maths', 'Maths', 'Maths', 'Physics', 'Physics', 'Computer Science', 'Computer Science', 'Physics', 'Maths', 'Computer Science', 'Computer Science', 'Maths', 'Computer Science', 'Maths', 'Maths', 'Physics', 'Computer Science', 'Physics', 'Maths', 'Maths', 'Maths', 'Maths', 'Maths', 'Computer Science', 'Physics', 'Computer Science', 'Physics', 'Physics', 'Maths', 'Maths', 'Computer Science', 'Maths', 'Maths', 'Maths', 'Maths', 'Maths', 'Physics', 'Computer Science', 'Maths', 'Computer Science', 'Maths', 'Computer Science', 'Maths', 'Computer Science', 'Computer Science', 'Computer Science', 'Computer Science', 'Computer Science', 'Computer Science', 'Computer Science', 'Maths', 'Maths', 'Computer Science', 'Electrical Engineering and Systems Science', 'Physics', 'Computer Science', 'Maths', 'Computer Science', 'Computer Science', 'Computer Science', 'Physics', 'Computer Science', 'Computer Science', 'Computer Science', 'Computer Science', 'Maths', 'Computer Science', 'Computer Science', 'Computer Science', 'Maths', 'Electrical Engineering and Systems Science', 'Computer Science', 'Electrical Engineering and Systems Science', 'Maths', 'Maths', 'Computer Science', 'Computer Science', 'Maths', 'Computer Science', 'Physics', 'Computer Science', 'Computer Science', 'Computer Science', 'Computer Science', 'Maths', 'Physics', 'Computer Science', 'Physics', 'Computer Science', 'Maths', 'Physics', 'Computer Science', 'Physics', 'Maths', 'Maths', 'Physics', 'Physics', 'Computer Science', 'Computer Science', 'Computer Science', 'Computer Science', 'Computer Science', 'Computer Science', 'Physics', 'Maths', 'Physics', 'Maths', 'Maths', 'Maths', 'Maths', 'Physics', 'Physics', 'Physics', 'Physics', 'Physics', 'Computer Science', 'Physics', 'Maths', 'Maths', 'Quantitative Biology', 'Physics', 'Maths', 'Physics', 'Computer Science', 'Computer Science', 'Electrical Engineering and Systems Science', 'Physics', 'Computer Science', 'Computer Science', 'Physics']\n"
          ],
          "name": "stdout"
        }
      ]
    },
    {
      "cell_type": "code",
      "metadata": {
        "colab": {
          "background_save": true
        },
        "id": "GedUzGJ32Jst",
        "outputId": "956735b0-9116-4a98-a42a-86063b97e69d"
      },
      "source": [
        "#df['category']=results\n",
        "df[df['file_name']=='2106.0349_Quantum_Error_Correction_and_Holographic_Information_from_Bilocal_Holography.pdf.txt']\n",
        "#df['file_name'].unique()"
      ],
      "execution_count": null,
      "outputs": [
        {
          "output_type": "execute_result",
          "data": {
            "text/html": [
              "<div>\n",
              "<style scoped>\n",
              "    .dataframe tbody tr th:only-of-type {\n",
              "        vertical-align: middle;\n",
              "    }\n",
              "\n",
              "    .dataframe tbody tr th {\n",
              "        vertical-align: top;\n",
              "    }\n",
              "\n",
              "    .dataframe thead th {\n",
              "        text-align: right;\n",
              "    }\n",
              "</style>\n",
              "<table border=\"1\" class=\"dataframe\">\n",
              "  <thead>\n",
              "    <tr style=\"text-align: right;\">\n",
              "      <th></th>\n",
              "      <th>file_name</th>\n",
              "      <th>text</th>\n",
              "      <th>text_clean</th>\n",
              "    </tr>\n",
              "  </thead>\n",
              "  <tbody>\n",
              "    <tr>\n",
              "      <th>1767</th>\n",
              "      <td>2106.0349_Quantum_Error_Correction_and_Hologra...</td>\n",
              "      <td>arXiv:2106.00349v1 [hep-th] 1 Jun 2021\\n\\nQuan...</td>\n",
              "      <td>arxiv:2106.00349v1 [ hep - th ] 1 jun 2021 qua...</td>\n",
              "    </tr>\n",
              "  </tbody>\n",
              "</table>\n",
              "</div>"
            ],
            "text/plain": [
              "                                              file_name  ...                                         text_clean\n",
              "1767  2106.0349_Quantum_Error_Correction_and_Hologra...  ...  arxiv:2106.00349v1 [ hep - th ] 1 jun 2021 qua...\n",
              "\n",
              "[1 rows x 3 columns]"
            ]
          },
          "metadata": {
            "tags": []
          },
          "execution_count": 0
        }
      ]
    },
    {
      "cell_type": "code",
      "metadata": {
        "id": "mqWOo1qVSLOv"
      },
      "source": [
        "!pip install sentence_transformers\n",
        "from sentence_transformers import SentenceTransformer\n",
        "\n",
        "# Load the BERT model. Various models trained on Natural Language Inference (NLI) https://github.com/UKPLab/sentence-transformers/blob/master/docs/pretrained-models/nli-models.md and \n",
        "# Semantic Textual Similarity are available https://github.com/UKPLab/sentence-transformers/blob/master/docs/pretrained-models/sts-models.md\n",
        "\n",
        "model_bert = SentenceTransformer('bert-base-nli-mean-tokens')"
      ],
      "execution_count": null,
      "outputs": []
    },
    {
      "cell_type": "code",
      "metadata": {
        "id": "4MJ1Id8dS0SE"
      },
      "source": [
        ""
      ],
      "execution_count": null,
      "outputs": []
    },
    {
      "cell_type": "code",
      "metadata": {
        "id": "NH1EEf9CTR-v"
      },
      "source": [
        ""
      ],
      "execution_count": null,
      "outputs": []
    },
    {
      "cell_type": "code",
      "metadata": {
        "id": "LvArZbPtTlJ7"
      },
      "source": [
        "import scipy\n",
        "query = \"We know that the bilocal collective field theory will reproduce the CFT correlators\"#@param {type: \"string\"}\n",
        "\n",
        "query=normalize(query,lowercase=True, remove_stopwords=True)\n",
        "queries = [query]\n",
        "query_embeddings = model_bert.encode(queries)\n",
        "\n",
        "# Find the closest 3 sentences of the corpus for each query sentence based on cosine similarity\n",
        "number_top_matches =  1#@param {type: \"number\"}\n",
        "\n",
        "dropdown = 'Physics' #@param ['Physics','Maths','Economics','Computer Science','Quantitative Biology','Quantitative Finance','Statistics','Electrical Engineering and Systems Science','Economics']\n",
        "\n",
        "sentences = df['text_clean'][df['category']==dropdown].values.tolist()\n",
        "\n",
        "sentence_embeddings = model_bert.encode(sentences)\n",
        "print(\"Semantic Search Results\")\n",
        "\n",
        "for query, query_embedding in zip(queries, query_embeddings):\n",
        "    distances = scipy.spatial.distance.cdist([query_embedding], sentence_embeddings, \"cosine\")[0]\n",
        "\n",
        "    results = zip(range(len(distances)), distances)\n",
        "    results = sorted(results, key=lambda x: x[1])\n",
        "    #print(type(results))\n",
        "\n",
        "    print(\"\\n\\n======================\\n\\n\")\n",
        "    print(\"Query:\", query)\n",
        "    print(\"\\nTop {0} files where the input matches the corpus for {1} category are:\".format(number_top_matches,dropdown))\n",
        "    print(\"\\n\\n======================\\n\\n\")\n",
        "    for idx, distance in results[0:number_top_matches]:\n",
        "      #if (1-distance)>0.5:\n",
        "        if (distance)>0.8:  \n",
        "          print(df['file_name'].iloc[[idx]].to_list(),\"(Cosine Score: %.4f)\" % (1-distance))\n",
        "          #print(sentences[idx].strip())\n",
        "          #print()\n",
        "          print(\"\\n\\n======================\\n\\n\")"
      ],
      "execution_count": null,
      "outputs": []
    },
    {
      "cell_type": "code",
      "metadata": {
        "id": "Gki7IxBede1W"
      },
      "source": [
        ""
      ],
      "execution_count": null,
      "outputs": []
    }
  ]
}